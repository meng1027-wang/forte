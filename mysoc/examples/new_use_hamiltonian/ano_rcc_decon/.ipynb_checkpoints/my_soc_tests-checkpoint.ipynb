{
 "cells": [
  {
   "cell_type": "code",
   "execution_count": 72,
   "id": "cc5d8590-d1aa-4af0-abc5-b53a66354891",
   "metadata": {},
   "outputs": [],
   "source": [
    "# example 4\n",
    "# OH"
   ]
  },
  {
   "cell_type": "code",
   "execution_count": 56,
   "id": "f4df37ba-2f34-4c7c-b9ab-5b359da25887",
   "metadata": {},
   "outputs": [],
   "source": [
    "%reload_ext autoreload\n",
    "%autoreload 2"
   ]
  },
  {
   "cell_type": "code",
   "execution_count": 2,
   "id": "9b024907-0deb-4517-9456-63cfdf10551d",
   "metadata": {},
   "outputs": [
    {
     "name": "stderr",
     "output_type": "stream",
     "text": [
      "/home/meng/src/anaconda3/envs/psi4env/lib/python3.10/site-packages/numpy/core/getlimits.py:542: UserWarning: Signature b'\\x00\\xd0\\xcc\\xcc\\xcc\\xcc\\xcc\\xcc\\xfb\\xbf\\x00\\x00\\x00\\x00\\x00\\x00' for <class 'numpy.longdouble'> does not match any known type: falling back to type probe function.\n",
      "This warnings indicates broken support for the dtype!\n",
      "  machar = _get_machar(dtype)\n"
     ]
    }
   ],
   "source": [
    "import os\n",
    "import sys\n",
    "import numpy as np\n",
    "import re\n",
    "sys.path.append(\"..\") \n",
    "from create_psi4_cas_hamiltonian import *\n",
    "from based_ci_soc_hamiltonian import *\n",
    "from based_ci_spinfree_hamiltonian import *"
   ]
  },
  {
   "cell_type": "code",
   "execution_count": 3,
   "id": "df86b78c-f759-4ed3-b9d8-71b9e6913cc2",
   "metadata": {},
   "outputs": [],
   "source": [
    "ndocc, nactel, nact = 1, 7, 5\n",
    "# dets, dets_dict = dets_inac(nactel ,nact) # nactel ,nact"
   ]
  },
  {
   "cell_type": "markdown",
   "id": "d2a698e8-0cb8-423e-a2dd-852914ca40e5",
   "metadata": {},
   "source": [
    "## 待完善代码：最好这里可以从forte的态平均获得相应的mo_coeff和ao_rdm1"
   ]
  },
  {
   "cell_type": "markdown",
   "id": "aebe9071-bc3b-4cf3-a8e0-56af6b1dcd58",
   "metadata": {},
   "source": [
    "# Part: based ci verctor "
   ]
  },
  {
   "cell_type": "markdown",
   "id": "62520fd8-7cfe-4db7-b710-f13b613c3c5f",
   "metadata": {},
   "source": [
    "## SA-CASSCF"
   ]
  },
  {
   "cell_type": "code",
   "execution_count": 57,
   "id": "393e179f-ff63-41ab-a57e-6c1f2566ac5d",
   "metadata": {},
   "outputs": [],
   "source": [
    "ca = np.load('mo_coeff.npy') #最好这里可以从forte的态平均获得相应的mo_coeff和ao_rdm1\n",
    "ao_rdm1 = np.load('dmao.npy')\n",
    "geom = '''\n",
    "O\n",
    "H 1 0.96966\n",
    "'''\n",
    "# f_pq = get_soc_fpq_pyscf(geom, 'unc-ccpvtz', 1, 0, False, nact, ndocc, nactel, ca=ca, ao_rdm1=ao_rdm1) # -----> 问题在于基组"
   ]
  },
  {
   "cell_type": "code",
   "execution_count": 58,
   "id": "b5e0647c-e27b-45dd-bff4-cb7cc2843bd3",
   "metadata": {},
   "outputs": [],
   "source": [
    "f_pq = np.load('f_pq_pyscf.npy') # ->从pyscf直接产生了f_pq_pyscf,linux里修改了代码\n",
    "#\\\\wsl.localhost\\Ubuntu-20.04\\home\\meng\\Computation\\about_pyscf\\pyscf_test\\mysoc_test\\oh\\ano-rcc\\create_psi4_cas_hamiltonian.py"
   ]
  },
  {
   "cell_type": "code",
   "execution_count": 59,
   "id": "1b9b37ae-0238-44d8-b89b-7b6344cbec77",
   "metadata": {},
   "outputs": [],
   "source": [
    "# 此处orbs存疑？两个程序不可约不一致？会有影响吗？如何解决？"
   ]
  },
  {
   "cell_type": "code",
   "execution_count": 60,
   "id": "68ee1268-f87a-4163-97ac-89a6417b3b4d",
   "metadata": {},
   "outputs": [],
   "source": [
    "pyscf_orbs = ['1a1', '2a1', '1b2', '1b1', '3a1']\n",
    "psi4_orbs = ['1a1', '2a1', '3a1', '1b1', '1b2']\n",
    "f_pq_psi4 = trans_f_pq_from_pyscf_to_psi4(f_pq, pyscf_orbs, psi4_orbs)"
   ]
  },
  {
   "cell_type": "code",
   "execution_count": 61,
   "id": "28e35013-6ea2-49c8-a5e3-2671c3240d6b",
   "metadata": {},
   "outputs": [],
   "source": [
    "forte_ci_dict1 = get_ci_and_coeff('output_root0_0.75_2_ms_-0.5.txt')\n",
    "forte_ci_dict2 = get_ci_and_coeff('output_root0_0.75_2_ms_0.5.txt')\n",
    "forte_ci_dict3 = get_ci_and_coeff('output_root0_0.75_3_ms_-0.5.txt')\n",
    "forte_ci_dict4 = get_ci_and_coeff('output_root0_0.75_3_ms_0.5.txt')"
   ]
  },
  {
   "cell_type": "code",
   "execution_count": 62,
   "id": "4d6380a8-f441-47ac-9088-7a733c429f98",
   "metadata": {},
   "outputs": [],
   "source": [
    "mo_irrep = {'A1':[0,1,2], 'B1':[3], 'B2':[4]}\n",
    "irrep_order = ['A1', 'B1', 'B2']"
   ]
  },
  {
   "cell_type": "code",
   "execution_count": 63,
   "id": "2c30434b-8e41-457d-9301-6438ccd8d7a3",
   "metadata": {},
   "outputs": [
    {
     "name": "stdout",
     "output_type": "stream",
     "text": [
      "[[ 0.00000000e+00+1.50692068e-52j -5.73443164e-30+4.33215867e-36j\n",
      "   0.00000000e+00+4.87682686e-20j  1.16336778e-36+3.18831435e-04j]\n",
      " [-5.73443202e-30+4.33215867e-36j  0.00000000e+00-1.50651285e-52j\n",
      "  -1.16336778e-36+3.18831435e-04j  0.00000000e+00-4.87682686e-20j]\n",
      " [ 0.00000000e+00-4.87682686e-20j -1.16336778e-36-3.18831435e-04j\n",
      "   0.00000000e+00-3.19449275e-52j -1.12045219e-29-1.85843437e-36j]\n",
      " [ 1.16336778e-36-3.18831435e-04j  0.00000000e+00+4.87682686e-20j\n",
      "  -1.12045307e-29-1.85843437e-36j  0.00000000e+00+3.19490058e-52j]]\n",
      "<class 'numpy.ndarray'>\n"
     ]
    }
   ],
   "source": [
    "ci_list = [forte_ci_dict1, forte_ci_dict2, forte_ci_dict3, forte_ci_dict4]\n",
    "# ci_list = [forte_ci_dict1]\n",
    "h_soc = h_soc_based_ci(nact, ci_list, irrep_order, mo_irrep, f_pq_psi4)\n",
    "print(h_soc)\n",
    "print(type(h_soc))"
   ]
  },
  {
   "cell_type": "code",
   "execution_count": 64,
   "id": "bf516f27-d25e-4c44-a218-552b7571ec95",
   "metadata": {},
   "outputs": [],
   "source": [
    "e = [-75.497827198942, -75.497827198942,  -75.497827199260,  -75.497827199260]\n",
    "h_spinfree = np.diag(e)\n",
    "# print(h_spinfree)\n",
    "# print(type(h_spinfree))"
   ]
  },
  {
   "cell_type": "code",
   "execution_count": 65,
   "id": "6451b0cf-5657-4237-8c72-821a6cccad2e",
   "metadata": {},
   "outputs": [
    {
     "data": {
      "text/plain": [
       "array([-75.49814603, -75.49814603, -75.49750837, -75.49750837])"
      ]
     },
     "execution_count": 65,
     "metadata": {},
     "output_type": "execute_result"
    }
   ],
   "source": [
    "eigval_t, eigvec_t = np.linalg.eigh(h_soc + h_spinfree)\n",
    "eigval_t"
   ]
  },
  {
   "cell_type": "code",
   "execution_count": 66,
   "id": "5ffab96a-56d9-4d03-b5fa-20b2dc75413f",
   "metadata": {},
   "outputs": [
    {
     "name": "stdout",
     "output_type": "stream",
     "text": [
      "-75.49814603053649 -75.49750836766553\n"
     ]
    }
   ],
   "source": [
    "e0 = np.average(eigval_t[0:2])\n",
    "e1 = np.average(eigval_t[2:4])\n",
    "print(e0, e1)"
   ]
  },
  {
   "cell_type": "code",
   "execution_count": 67,
   "id": "1e024470-4ccb-4fa2-8ab4-b0a701283b57",
   "metadata": {},
   "outputs": [
    {
     "name": "stdout",
     "output_type": "stream",
     "text": [
      "ZFS 2P  1/2 - 3/2      =   139.9508 cm-1\n"
     ]
    }
   ],
   "source": [
    "au2cm = 219474.63\n",
    "print(\"ZFS 2P  1/2 - 3/2      = %10.4f cm-1\" % ((e1 - e0) * au2cm))\n",
    "# print(\"ZFS 2P  1/2 - 3/2 exp. = %10.4f cm-1\" % 404.141)"
   ]
  },
  {
   "cell_type": "markdown",
   "id": "b786cc08-e81b-4cb3-b78c-11b0660c5ea0",
   "metadata": {},
   "source": [
    "## SA-DSRG"
   ]
  },
  {
   "cell_type": "code",
   "execution_count": 68,
   "id": "68d7471c-f5ef-4ada-bbc2-c10e89ce7c53",
   "metadata": {},
   "outputs": [],
   "source": [
    "e_dsrg = [-75.709274559094, -75.709274559094, -75.709274559105, -75.709274559105]\n",
    "h_dsrg = np.diag(e_dsrg)"
   ]
  },
  {
   "cell_type": "code",
   "execution_count": 69,
   "id": "f27a96f2-35ff-47e0-a625-67a3a2e1ea2c",
   "metadata": {},
   "outputs": [
    {
     "data": {
      "text/plain": [
       "array([-75.70959339, -75.70959339, -75.70895573, -75.70895573])"
      ]
     },
     "execution_count": 69,
     "metadata": {},
     "output_type": "execute_result"
    }
   ],
   "source": [
    "eigval_t_dsrg, eigvec_t = np.linalg.eigh(h_soc + h_dsrg)\n",
    "eigval_t_dsrg"
   ]
  },
  {
   "cell_type": "code",
   "execution_count": 70,
   "id": "12d4adfb-eccc-4c4f-b829-d1e5b76a2928",
   "metadata": {},
   "outputs": [
    {
     "name": "stdout",
     "output_type": "stream",
     "text": [
      "-75.70959339053498 -75.70895572766402\n"
     ]
    }
   ],
   "source": [
    "e0 = np.average(eigval_t_dsrg[0:2])\n",
    "e1 = np.average(eigval_t_dsrg[2:4])\n",
    "print(e0, e1)"
   ]
  },
  {
   "cell_type": "code",
   "execution_count": 71,
   "id": "a076fc20-0d6e-485a-bf93-3aad5fef2098",
   "metadata": {},
   "outputs": [
    {
     "name": "stdout",
     "output_type": "stream",
     "text": [
      "ZFS 2P  1/2 - 3/2      =   139.9508 cm-1\n"
     ]
    }
   ],
   "source": [
    "au2cm = 219474.63\n",
    "print(\"ZFS 2P  1/2 - 3/2      = %10.4f cm-1\" % ((e1 - e0) * au2cm))\n",
    "# print(\"ZFS 2P  1/2 - 3/2 exp. = %10.4f cm-1\" % 404.141)"
   ]
  },
  {
   "cell_type": "code",
   "execution_count": null,
   "id": "9dbc0fd9-1df0-4b16-bbfc-46d01770a273",
   "metadata": {},
   "outputs": [],
   "source": []
  }
 ],
 "metadata": {
  "kernelspec": {
   "display_name": "Python 3 (ipykernel)",
   "language": "python",
   "name": "python3"
  },
  "language_info": {
   "codemirror_mode": {
    "name": "ipython",
    "version": 3
   },
   "file_extension": ".py",
   "mimetype": "text/x-python",
   "name": "python",
   "nbconvert_exporter": "python",
   "pygments_lexer": "ipython3",
   "version": "3.10.13"
  }
 },
 "nbformat": 4,
 "nbformat_minor": 5
}
